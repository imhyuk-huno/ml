{
  "nbformat": 4,
  "nbformat_minor": 0,
  "metadata": {
    "colab": {
      "provenance": []
    },
    "kernelspec": {
      "name": "python3",
      "display_name": "Python 3"
    },
    "language_info": {
      "name": "python"
    }
  },
  "cells": [
    {
      "cell_type": "code",
      "execution_count": null,
      "metadata": {
        "id": "tgIofoWoT7Ef"
      },
      "outputs": [],
      "source": [
        "fish_length = [25.4, 26.3, 26.5, 29.0, 29.0, 29.7, 29.7, 30.0, 30.0, 30.7, 31.0, 31.0,\n",
        "                31.5, 32.0, 32.0, 32.0, 33.0, 33.0, 33.5, 33.5, 34.0, 34.0, 34.5, 35.0,\n",
        "                35.0, 35.0, 35.0, 36.0, 36.0, 37.0, 38.5, 38.5, 39.5, 41.0, 41.0, 9.8,\n",
        "                10.5, 10.6, 11.0, 11.2, 11.3, 11.8, 11.8, 12.0, 12.2, 12.4, 13.0, 14.3, 15.0]\n",
        "\n",
        "fish_weight = [242.0, 290.0, 340.0, 363.0, 430.0, 450.0, 500.0, 390.0, 450.0, 500.0, 475.0, 500.0,\n",
        "                500.0, 340.0, 600.0, 600.0, 700.0, 700.0, 610.0, 650.0, 575.0, 685.0, 620.0, 680.0,\n",
        "                700.0, 725.0, 720.0, 714.0, 850.0, 1000.0, 920.0, 955.0, 925.0, 975.0, 950.0, 6.7,\n",
        "                7.5, 7.0, 9.7, 9.8, 8.7, 10.0, 9.9, 9.8, 12.2, 13.4, 12.2, 19.7, 19.9]"
      ]
    },
    {
      "cell_type": "code",
      "source": [
        "# 넘파이\n",
        "# column_stack((x,y))\n",
        "\n",
        "import numpy as np\n",
        "\n",
        "np.column_stack(([1,2,3], [4,5,6]))\n",
        "\n",
        "\n"
      ],
      "metadata": {
        "colab": {
          "base_uri": "https://localhost:8080/"
        },
        "id": "1eOwb-CYUnqb",
        "outputId": "58671f73-ac51-48db-fb11-ee557c60b3fc"
      },
      "execution_count": null,
      "outputs": [
        {
          "output_type": "execute_result",
          "data": {
            "text/plain": [
              "array([[1, 4],\n",
              "       [2, 5],\n",
              "       [3, 6]])"
            ]
          },
          "metadata": {},
          "execution_count": 2
        }
      ]
    },
    {
      "cell_type": "code",
      "source": [
        "fish_data = np.column_stack((fish_length, fish_weight))\n",
        "\n",
        "print(fish_data[:5])"
      ],
      "metadata": {
        "colab": {
          "base_uri": "https://localhost:8080/"
        },
        "id": "Ut-YGryvVTSP",
        "outputId": "7cfba1ff-2764-4100-9912-2935160872a8"
      },
      "execution_count": null,
      "outputs": [
        {
          "output_type": "stream",
          "name": "stdout",
          "text": [
            "[[ 25.4 242. ]\n",
            " [ 26.3 290. ]\n",
            " [ 26.5 340. ]\n",
            " [ 29.  363. ]\n",
            " [ 29.  430. ]]\n"
          ]
        }
      ]
    },
    {
      "cell_type": "code",
      "source": [
        "# 타깃 데이터 [1] * n + [0] * m\n",
        "\n",
        "# np.ones(), np.zeros()\n",
        "\n",
        "print(np.ones(5))"
      ],
      "metadata": {
        "colab": {
          "base_uri": "https://localhost:8080/"
        },
        "id": "VQZ1HHMfVgSb",
        "outputId": "a15a1c35-dc40-4619-ef3c-a67eb2b98233"
      },
      "execution_count": null,
      "outputs": [
        {
          "output_type": "stream",
          "name": "stdout",
          "text": [
            "[1. 1. 1. 1. 1.]\n"
          ]
        }
      ]
    },
    {
      "cell_type": "code",
      "source": [
        "fish_target = np.concatenate((np.ones(35), np.zeros(14)))\n",
        "\n",
        "fish_target"
      ],
      "metadata": {
        "colab": {
          "base_uri": "https://localhost:8080/"
        },
        "id": "qxmUIb1OWWQy",
        "outputId": "8647148a-89d2-453e-909f-3dcb804af6fc"
      },
      "execution_count": null,
      "outputs": [
        {
          "output_type": "execute_result",
          "data": {
            "text/plain": [
              "array([1., 1., 1., 1., 1., 1., 1., 1., 1., 1., 1., 1., 1., 1., 1., 1., 1.,\n",
              "       1., 1., 1., 1., 1., 1., 1., 1., 1., 1., 1., 1., 1., 1., 1., 1., 1.,\n",
              "       1., 0., 0., 0., 0., 0., 0., 0., 0., 0., 0., 0., 0., 0., 0.])"
            ]
          },
          "metadata": {},
          "execution_count": 5
        }
      ]
    },
    {
      "cell_type": "code",
      "source": [
        "# sklearn\n",
        "from sklearn.model_selection import train_test_split\n",
        "\n",
        "train_input, test_input, train_target, test_target = train_test_split(fish_data, fish_target, random_state=42)\n",
        "\n"
      ],
      "metadata": {
        "id": "lcqR7iTuWk3h"
      },
      "execution_count": null,
      "outputs": []
    },
    {
      "cell_type": "code",
      "source": [],
      "metadata": {
        "id": "OnZ0SCb6XC7H"
      },
      "execution_count": null,
      "outputs": []
    },
    {
      "cell_type": "markdown",
      "source": [
        "![다운로드 (2).png](data:image/png;base64,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)"
      ],
      "metadata": {
        "id": "Rg6X08BcXKIB"
      }
    },
    {
      "cell_type": "code",
      "source": [
        "print(train_input.shape, test_input.shape)\n",
        "print(train_target.shape, test_target.shape)"
      ],
      "metadata": {
        "colab": {
          "base_uri": "https://localhost:8080/"
        },
        "id": "Gr8bUDp2XNps",
        "outputId": "9ec59a78-947d-4d01-ba35-01138e318950"
      },
      "execution_count": null,
      "outputs": [
        {
          "output_type": "stream",
          "name": "stdout",
          "text": [
            "(36, 2) (13, 2)\n",
            "(36,) (13,)\n"
          ]
        }
      ]
    },
    {
      "cell_type": "code",
      "source": [
        "# 샘플링 편향\n",
        "\n",
        "# stratify 매개변수 타깃데이터 전달 시 클래스 비율(1, 0)\n",
        "\n",
        "print(test_input)\n",
        "print(\"\\n\\n----------------------------------\")\n",
        "print(test_target)"
      ],
      "metadata": {
        "colab": {
          "base_uri": "https://localhost:8080/"
        },
        "id": "vEypovQkXjHI",
        "outputId": "153177b0-be53-43f6-a6b8-08d4a9aa2043"
      },
      "execution_count": null,
      "outputs": [
        {
          "output_type": "stream",
          "name": "stdout",
          "text": [
            "[[ 32.  340. ]\n",
            " [ 12.4  13.4]\n",
            " [ 14.3  19.7]\n",
            " [ 12.2  12.2]\n",
            " [ 33.  700. ]\n",
            " [ 36.  714. ]\n",
            " [ 35.  720. ]\n",
            " [ 35.  725. ]\n",
            " [ 38.5 955. ]\n",
            " [ 33.5 650. ]\n",
            " [ 31.5 500. ]\n",
            " [ 29.  430. ]\n",
            " [ 41.  950. ]]\n",
            "\n",
            "\n",
            "----------------------------------\n",
            "[1. 0. 0. 0. 1. 1. 1. 1. 1. 1. 1. 1. 1.]\n"
          ]
        }
      ]
    },
    {
      "cell_type": "code",
      "source": [
        "# 다시 훈련, 테스트 세트 나눔\n",
        "\n",
        "train_input, test_input, train_target, test_target = train_test_split(fish_data, fish_target, stratify=fish_target, random_state=42)\n",
        "\n",
        "print(test_target)"
      ],
      "metadata": {
        "colab": {
          "base_uri": "https://localhost:8080/"
        },
        "id": "ThIf-i7MY95s",
        "outputId": "8754e1b0-c945-4069-f42e-3214d15c961f"
      },
      "execution_count": null,
      "outputs": [
        {
          "output_type": "stream",
          "name": "stdout",
          "text": [
            "[0. 0. 1. 0. 1. 0. 1. 1. 1. 1. 1. 1. 1.]\n"
          ]
        }
      ]
    },
    {
      "cell_type": "code",
      "source": [
        "# K-Neightbors 모델(K-최근접이웃 모델)\n",
        "from sklearn.neighbors import KNeighborsClassifier\n",
        "\n",
        "kn = KNeighborsClassifier()\n",
        "\n",
        "kn.fit(train_input, train_target)\n",
        "kn.score(test_input, test_target)\n"
      ],
      "metadata": {
        "colab": {
          "base_uri": "https://localhost:8080/"
        },
        "id": "4DBC-bWuYtW-",
        "outputId": "394d6127-9be0-4374-f2cd-05edd67301c8"
      },
      "execution_count": null,
      "outputs": [
        {
          "output_type": "execute_result",
          "data": {
            "text/plain": [
              "1.0"
            ]
          },
          "metadata": {},
          "execution_count": 14
        }
      ]
    },
    {
      "cell_type": "code",
      "source": [
        "# 25, 150 -> 도미\n",
        "\n",
        "print(kn.predict([[25, 150]]))"
      ],
      "metadata": {
        "colab": {
          "base_uri": "https://localhost:8080/"
        },
        "id": "CXW7rsjLaAts",
        "outputId": "edd5a764-9041-413e-df5c-8800bec1a5c4"
      },
      "execution_count": null,
      "outputs": [
        {
          "output_type": "stream",
          "name": "stdout",
          "text": [
            "[0.]\n"
          ]
        }
      ]
    },
    {
      "cell_type": "code",
      "source": [
        "# 산점도를 그려서 샘플(25cm, 100g)의 위치를 확인\n",
        "\n",
        "import matplotlib.pyplot as plt\n",
        "\n",
        "plt.scatter(train_input[:, 0], train_input[:, 1])\n",
        "\n",
        "plt.scatter(25, 150, marker=\"^\")\n",
        "plt.xlabel('length')\n",
        "plt.ylabel('weight')\n",
        "\n",
        "plt.show()\n"
      ],
      "metadata": {
        "colab": {
          "base_uri": "https://localhost:8080/",
          "height": 449
        },
        "id": "rsEgV4NFabmM",
        "outputId": "80f48ec1-f235-42a5-dc84-93d259ffe972"
      },
      "execution_count": null,
      "outputs": [
        {
          "output_type": "display_data",
          "data": {
            "text/plain": [
              "<Figure size 640x480 with 1 Axes>"
            ],
            "image/png": "[encoded data removed]"
          },
          "metadata": {}
        }
      ]
    },
    {
      "cell_type": "code",
      "source": [
        "# K-최근접이웃모델은 주변의 샘플 중에서 다수인 클래스를 예측으로 사용함\n",
        "# n_neighbors() 기본 값: 5\n",
        "# 5개의 이웃"
      ],
      "metadata": {
        "id": "rYLH4YDEbCJF"
      },
      "execution_count": null,
      "outputs": []
    },
    {
      "cell_type": "code",
      "source": [
        "distances, indexes = kn.kneighbors([[25, 150]])\n",
        "\n",
        "print(distances, indexes)\n",
        "\n",
        "plt.scatter(train_input[:,0], train_input[:,1])\n",
        "plt.scatter(25, 150, marker=\"^\")\n",
        "plt.scatter(train_input[indexes, 0], train_input[indexes, 1], marker=\"D\")\n",
        "\n",
        "plt.xlabel('l')\n",
        "plt.ylabel('w')\n",
        "\n",
        "plt.show()"
      ],
      "metadata": {
        "colab": {
          "base_uri": "https://localhost:8080/",
          "height": 466
        },
        "id": "86EEW3U0aWZB",
        "outputId": "29c61a1f-d2aa-4c92-d1fe-1d9bb99555d5"
      },
      "execution_count": null,
      "outputs": [
        {
          "output_type": "stream",
          "name": "stdout",
          "text": [
            "[[ 92.00086956 130.48375378 130.73859415 138.32150953 138.39320793]] [[21 33 19 30  1]]\n"
          ]
        },
        {
          "output_type": "display_data",
          "data": {
            "text/plain": [
              "<Figure size 640x480 with 1 Axes>"
            ],
            "image/png": "[encoded data removed]"
          },
          "metadata": {}
        }
      ]
    },
    {
      "cell_type": "code",
      "source": [
        "print(\"입력데이터\")\n",
        "print(train_input[indexes])\n",
        "print(\"\\n타깃 데이터\")\n",
        "print(train_target[indexes])\n"
      ],
      "metadata": {
        "colab": {
          "base_uri": "https://localhost:8080/"
        },
        "id": "e3XxgmGKcGB6",
        "outputId": "5b917829-830d-4729-8bcd-67c738a18399"
      },
      "execution_count": null,
      "outputs": [
        {
          "output_type": "stream",
          "name": "stdout",
          "text": [
            "입력데이터\n",
            "[[[ 25.4 242. ]\n",
            "  [ 15.   19.9]\n",
            "  [ 14.3  19.7]\n",
            "  [ 13.   12.2]\n",
            "  [ 12.2  12.2]]]\n",
            "\n",
            "타깃 데이터\n",
            "[[1. 0. 0. 0. 0.]]\n"
          ]
        }
      ]
    },
    {
      "cell_type": "code",
      "source": [
        "# 비슷하게 X축의 범위를 0~1000으로 전환\n",
        "plt.scatter(train_input[:,0], train_input[:, 1])\n",
        "plt.scatter(25, 150, marker=\"^\")\n",
        "plt.scatter(train_input[indexes, 0], train_input[indexes, 1], marker=\"D\")\n",
        "\n",
        "plt.xlim((0, 1000))\n",
        "plt.xlabel('length')\n",
        "plt.ylabel('weight')\n",
        "plt.show()\n"
      ],
      "metadata": {
        "colab": {
          "base_uri": "https://localhost:8080/",
          "height": 449
        },
        "id": "-pkmo8fyc4hS",
        "outputId": "102145c2-e9c1-4c00-fd7b-050c96615503"
      },
      "execution_count": null,
      "outputs": [
        {
          "output_type": "display_data",
          "data": {
            "text/plain": [
              "<Figure size 640x480 with 1 Axes>"
            ],
            "image/png": "[encoded data removed]"
          },
          "metadata": {}
        }
      ]
    },
    {
      "cell_type": "code",
      "source": [
        "# 표준점수: 각 특성 값이 0에서 표준편차의 몇 배만큼 떨여져있는지를 나타냄\n",
        "# 분산, 표준편차, 표준점수\n",
        "\n",
        "# 계산 방법: 평균을 빼고 표준편차를 나눠주면 됨\n",
        "\n",
        "import numpy as np\n",
        "\n",
        "mean = np.mean(train_input, axis=0) # 0은 행, 1은 열\n",
        "std = np.std(train_input, axis=0)\n",
        "\n",
        "print(mean, std)\n",
        "\n"
      ],
      "metadata": {
        "colab": {
          "base_uri": "https://localhost:8080/"
        },
        "id": "R8v5dqDzdbl5",
        "outputId": "5c5a0f00-440d-4dc8-e889-3f3f00b29cc1"
      },
      "execution_count": null,
      "outputs": [
        {
          "output_type": "stream",
          "name": "stdout",
          "text": [
            "[ 27.29722222 454.09722222] [  9.98244253 323.29893931]\n"
          ]
        }
      ]
    },
    {
      "cell_type": "code",
      "source": [
        "train_scaled = (train_input - mean) / std\n",
        "print(mean, std)\n",
        "\n",
        "print(\"\\n\\n\\n\")\n",
        "\n",
        "print(train_scaled)"
      ],
      "metadata": {
        "colab": {
          "base_uri": "https://localhost:8080/"
        },
        "id": "PONoXcKiejhN",
        "outputId": "513104d4-6f84-48a6-f257-8b5d459e1297"
      },
      "execution_count": null,
      "outputs": [
        {
          "output_type": "stream",
          "name": "stdout",
          "text": [
            "[ 27.29722222 454.09722222] [  9.98244253 323.29893931]\n",
            "\n",
            "\n",
            "\n",
            "\n",
            "[[ 0.24070039  0.14198246]\n",
            " [-1.51237757 -1.36683783]\n",
            " [ 0.5712808   0.76060496]\n",
            " [-1.60253587 -1.37766373]\n",
            " [ 1.22242404  1.45655528]\n",
            " [ 0.17057727 -0.07453542]\n",
            " [ 0.87180845  0.80390854]\n",
            " [ 0.87180845  1.22457184]\n",
            " [ 0.37092904  0.06465464]\n",
            " [ 0.77163257  0.82246721]\n",
            " [ 0.97198434  1.68853872]\n",
            " [-1.61255346 -1.3742613 ]\n",
            " [ 0.72154463  0.51315596]\n",
            " [-1.53241275 -1.3742613 ]\n",
            " [ 0.17057727 -0.28177396]\n",
            " [ 0.5712808   0.76060496]\n",
            " [ 0.34087627  0.14198246]\n",
            " [ 1.12224816  1.54934866]\n",
            " [ 0.62136874  0.60594934]\n",
            " [-1.30200822 -1.34363949]\n",
            " [ 0.42101698  0.14198246]\n",
            " [-0.19005591 -0.65604058]\n",
            " [-1.75279969 -1.38384995]\n",
            " [ 0.47110492  0.45129371]\n",
            " [-1.68267658 -1.38137546]\n",
            " [ 0.62136874  0.48222484]\n",
            " [-1.67265899 -1.38292202]\n",
            " [ 0.77163257  0.76060496]\n",
            " [ 0.47110492  0.45129371]\n",
            " [ 0.77163257  0.83793278]\n",
            " [-1.43223687 -1.36683783]\n",
            " [ 0.27075315 -0.01267317]\n",
            " [ 0.47110492 -0.35291555]\n",
            " [-1.2318851  -1.34302087]\n",
            " [ 0.27075315 -0.19825992]\n",
            " [ 1.37268787  1.61121091]]\n"
          ]
        }
      ]
    },
    {
      "cell_type": "code",
      "source": [
        "# 전처리 데이터로 모델 훈련\n",
        "\n",
        "plt.scatter(train_scaled[:, 0], train_scaled[:,1])\n",
        "plt.scatter(25, 150, marker=\"^\")\n",
        "plt.xlabel('length')\n",
        "plt.ylabel('weight')\n",
        "plt.show()"
      ],
      "metadata": {
        "colab": {
          "base_uri": "https://localhost:8080/",
          "height": 449
        },
        "id": "lyDR7Bbqe84v",
        "outputId": "67256af1-253b-4365-da9b-98bfb6d3a895"
      },
      "execution_count": null,
      "outputs": [
        {
          "output_type": "display_data",
          "data": {
            "text/plain": [
              "<Figure size 640x480 with 1 Axes>"
            ],
            "image/png": "[encoded data removed]"
          },
          "metadata": {}
        }
      ]
    },
    {
      "cell_type": "code",
      "source": [
        "new = ([25, 150] - mean) / std"
      ],
      "metadata": {
        "id": "Oes4OU2AfPEP"
      },
      "execution_count": null,
      "outputs": []
    },
    {
      "cell_type": "code",
      "source": [
        "new"
      ],
      "metadata": {
        "colab": {
          "base_uri": "https://localhost:8080/"
        },
        "id": "m-3o7zcrfdlN",
        "outputId": "57ae42f8-2e2f-402d-c340-9e8a92803cad"
      },
      "execution_count": null,
      "outputs": [
        {
          "output_type": "execute_result",
          "data": {
            "text/plain": [
              "array([-0.23012627, -0.94060693])"
            ]
          },
          "metadata": {},
          "execution_count": 26
        }
      ]
    },
    {
      "cell_type": "code",
      "source": [
        "plt.scatter(train_scaled[:,0], train_scaled[:,1])\n",
        "\n",
        "plt.scatter(new[0], new[1], marker=\"^\")\n",
        "\n",
        "plt.xlabel('length')\n",
        "plt.ylabel('weight')\n",
        "plt.show()"
      ],
      "metadata": {
        "colab": {
          "base_uri": "https://localhost:8080/",
          "height": 449
        },
        "id": "RRXxKpN8feqg",
        "outputId": "2efc6e4d-68ca-410b-e346-55972f7f847a"
      },
      "execution_count": null,
      "outputs": [
        {
          "output_type": "display_data",
          "data": {
            "text/plain": [
              "<Figure size 640x480 with 1 Axes>"
            ],
            "image/png": "[encoded data removed]"
          },
          "metadata": {}
        }
      ]
    },
    {
      "cell_type": "code",
      "source": [
        "# k-최근접 이웃 모델 재훈련\n",
        "kn.fit(train_scaled, train_target)\n",
        "\n",
        "test_scaled = (test_input - mean) / std\n",
        "\n",
        "kn.score(test_scaled, test_target)"
      ],
      "metadata": {
        "colab": {
          "base_uri": "https://localhost:8080/"
        },
        "id": "scoKp2P5fvC4",
        "outputId": "4e858b15-5857-45fd-b370-ac32af7b6792"
      },
      "execution_count": null,
      "outputs": [
        {
          "output_type": "execute_result",
          "data": {
            "text/plain": [
              "1.0"
            ]
          },
          "metadata": {},
          "execution_count": 28
        }
      ]
    },
    {
      "cell_type": "code",
      "source": [
        "# 25cm, 150g => 0(빙어)(X)\n",
        "# 이번에는? => 1(도미)(O)\n",
        "\n",
        "kn.predict([new])"
      ],
      "metadata": {
        "colab": {
          "base_uri": "https://localhost:8080/"
        },
        "id": "lyXCYR9DgJVv",
        "outputId": "c283bd08-f895-4a77-ca71-25e0444e14a6"
      },
      "execution_count": null,
      "outputs": [
        {
          "output_type": "execute_result",
          "data": {
            "text/plain": [
              "array([1.])"
            ]
          },
          "metadata": {},
          "execution_count": 29
        }
      ]
    },
    {
      "cell_type": "code",
      "source": [],
      "metadata": {
        "id": "NV9xvKFVgVcl"
      },
      "execution_count": null,
      "outputs": []
    },
    {
      "cell_type": "code",
      "source": [],
      "metadata": {
        "id": "558MDRyhezDB"
      },
      "execution_count": null,
      "outputs": []
    },
    {
      "cell_type": "code",
      "source": [],
      "metadata": {
        "id": "fDyx_uPvZ2LN"
      },
      "execution_count": null,
      "outputs": []
    },
    {
      "cell_type": "code",
      "source": [],
      "metadata": {
        "id": "Q2r-opXpZxDP"
      },
      "execution_count": null,
      "outputs": []
    },
    {
      "cell_type": "code",
      "source": [],
      "metadata": {
        "id": "vCN7qpnSYozq"
      },
      "execution_count": null,
      "outputs": []
    }
  ]
}